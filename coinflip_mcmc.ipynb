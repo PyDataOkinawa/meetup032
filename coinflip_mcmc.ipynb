{
 "cells": [
  {
   "cell_type": "markdown",
   "metadata": {},
   "source": [
    "# Pydata Okinawa #32\n",
    "### Edwardで確率的プログラミング\n",
    "\n",
    "コイン投げモデルをギブスサンプリングで近似してみる編\n",
    "\n",
    "## おまけ\n",
    "- \"コイン投げ\" の確率モデル（Beta-Bernoulliモデル）をEdwardで実装する\n",
    "- 構築されたモデルと観測データをもとに、ギブスサンプリングで変分分布パラメータを真の分布に近似する"
   ]
  },
  {
   "cell_type": "code",
   "execution_count": 1,
   "metadata": {
    "collapsed": true
   },
   "outputs": [],
   "source": [
    "%matplotlib inline\n",
    "import matplotlib.pyplot as plt\n",
    "import matplotlib.cm as cm\n",
    "from ipywidgets import interact\n",
    "\n",
    "import numpy as np\n",
    "import tensorflow as tf\n",
    "import edward as ed\n",
    "# ベータ分布とベルヌーイ分布をedwardから読み込む\n",
    "from edward.models import Beta, Bernoulli, Empirical"
   ]
  },
  {
   "cell_type": "code",
   "execution_count": 2,
   "metadata": {
    "collapsed": true
   },
   "outputs": [],
   "source": [
    "ed.set_seed(42)"
   ]
  },
  {
   "cell_type": "code",
   "execution_count": 3,
   "metadata": {},
   "outputs": [
    {
     "name": "stdout",
     "output_type": "stream",
     "text": [
      "Number of tirals:\t50\n",
      "Observed data:\t [0 0 0 0 0 0 0 0 0 0 0 0 0 0 0 0 0 0 0 0 0 0 0 0 0 0 0 0 0 0 0 0 0 0 0 0 0\n",
      " 0 0 0 0 0 0 0 0 0 0 0 0 0]\n",
      "Mean value:\t0.000\n"
     ]
    }
   ],
   "source": [
    "# 観測データが無い場合\n",
    "#x_data = np.array([])\n",
    "\n",
    "# 0ばかり観測された場合\n",
    "# x_data = np.array([0] * 10)\n",
    "x_data = np.array([0] * 50)\n",
    "\n",
    "# 0と1が確率的に観測された場合\n",
    "# n_data = 50\n",
    "# np.random.seed(0)\n",
    "# x_data = (np.random.rand(n_data) < 0.5).astype('int')\n",
    "\n",
    "# コインを振った回数\n",
    "N = len(x_data)\n",
    "\n",
    "print(\"Number of tirals:\\t%d\" % N)\n",
    "print(\"Observed data:\\t\", x_data)\n",
    "if len(x_data) > 0:\n",
    "    print(\"Mean value:\\t%.3f\" % x_data.mean())"
   ]
  },
  {
   "cell_type": "markdown",
   "metadata": {},
   "source": [
    "# コイン投げ Model を定義"
   ]
  },
  {
   "cell_type": "code",
   "execution_count": 4,
   "metadata": {
    "collapsed": true
   },
   "outputs": [],
   "source": [
    "# Beta-Bernoulliモデルを構築\n",
    "\n",
    "# concentration1 = 1.0\n",
    "# concentration0 = 1.0\n",
    "\n",
    "concentration1 = 3.0\n",
    "concentration0 = 2.0\n",
    "\n",
    "p_mu = Beta(concentration1, concentration0, name='p_mu')\n",
    "x = Bernoulli(probs=p_mu, sample_shape=N , name='x')"
   ]
  },
  {
   "cell_type": "code",
   "execution_count": 5,
   "metadata": {},
   "outputs": [
    {
     "data": {
      "image/png": "[encoded data removed]",
      "text/plain": [
       "<matplotlib.figure.Figure at 0x116583898>"
      ]
     },
     "metadata": {},
     "output_type": "display_data"
    }
   ],
   "source": [
    "# 定義したBeta分布を定義してみる(事前分布)\n",
    "sess = ed.get_session()\n",
    "xs = np.linspace(0.01, 1.0, 100, dtype=np.float32)\n",
    "pdf = p_mu.prob(xs).eval()\n",
    "plt.plot(xs, pdf)\n",
    "plt.show()\n",
    "sess.close()"
   ]
  },
  {
   "cell_type": "markdown",
   "metadata": {},
   "source": [
    "# ギブスサンプリングで推定する"
   ]
  },
  {
   "cell_type": "code",
   "execution_count": 6,
   "metadata": {
    "collapsed": true
   },
   "outputs": [],
   "source": [
    "n_sample = 500\n",
    "\n",
    "q_mu = Empirical(tf.Variable(tf.zeros(n_sample)), name='q_mu')"
   ]
  },
  {
   "cell_type": "code",
   "execution_count": 7,
   "metadata": {
    "scrolled": true
   },
   "outputs": [],
   "source": [
    "inference = ed.Gibbs({p_mu: q_mu}, data={x: x_data})"
   ]
  },
  {
   "cell_type": "markdown",
   "metadata": {},
   "source": [
    "逐次的に推定を実行する"
   ]
  },
  {
   "cell_type": "code",
   "execution_count": 8,
   "metadata": {
    "scrolled": true
   },
   "outputs": [
    {
     "name": "stdout",
     "output_type": "stream",
     "text": [
      "  1/500 [  0%]                                ETA: 102s | Acceptance Rate: inf\n",
      "Inferred cluster means:\n",
      "5.88619e-05\n",
      "100/500 [ 20%] ██████                         ETA: 2s | Acceptance Rate: 1.010\n",
      "Inferred cluster means:\n",
      "0.0520519\n",
      "200/500 [ 40%] ████████████                   ETA: 1s | Acceptance Rate: 1.000\n",
      "Inferred cluster means:\n",
      "0.0555399\n",
      "300/500 [ 60%] ██████████████████             ETA: 0s | Acceptance Rate: 1.000\n",
      "Inferred cluster means:\n",
      "0.0558099\n",
      "400/500 [ 80%] ████████████████████████       ETA: 0s | Acceptance Rate: 1.000\n",
      "Inferred cluster means:\n",
      "0.0556639\n",
      "500/500 [100%] ██████████████████████████████ Elapsed: 1s | Acceptance Rate: 1.000\n"
     ]
    }
   ],
   "source": [
    "inference.initialize()\n",
    "\n",
    "sess = ed.get_session()\n",
    "tf.global_variables_initializer().run()\n",
    "\n",
    "t_ph = tf.placeholder(tf.int32, [])\n",
    "running_cluster_means = tf.reduce_mean(q_mu.params[:t_ph], 0)\n",
    "\n",
    "# iteration毎のパラメータを保存する\n",
    "current_cluster_means = q_mu.params[t_ph]\n",
    "all_current_culster_means = []\n",
    "\n",
    "for i_iter in range(inference.n_iter):\n",
    "    \n",
    "    info_dict = inference.update()\n",
    "    inference.print_progress(info_dict)\n",
    "    all_current_culster_means.append(sess.run(current_cluster_means, {t_ph: i_iter-1}))\n",
    "    \n",
    "    # 100回に1度ログを書き出す\n",
    "    if i_iter % 100 == 0:\n",
    "        # curr_q_mu = q_mu.prob(mu_domain).eval()\n",
    "        print(\"\\nInferred cluster means:\")\n",
    "        print(sess.run(running_cluster_means, {t_ph: i_iter - 1}))\n",
    "\n",
    "inference.finalize()"
   ]
  },
  {
   "cell_type": "markdown",
   "metadata": {},
   "source": [
    "推定時にサンプリングされた値をヒストグラムにしてみる"
   ]
  },
  {
   "cell_type": "code",
   "execution_count": 9,
   "metadata": {},
   "outputs": [
    {
     "data": {
      "text/plain": [
       "<matplotlib.axes._subplots.AxesSubplot at 0x1166eb1d0>"
      ]
     },
     "execution_count": 9,
     "metadata": {},
     "output_type": "execute_result"
    },
    {
     "data": {
      "image/png": "[encoded data removed]",
      "text/plain": [
       "<matplotlib.figure.Figure at 0x1166eba58>"
      ]
     },
     "metadata": {},
     "output_type": "display_data"
    }
   ],
   "source": [
    "import pandas as pd\n",
    "\n",
    "v = pd.Series(all_current_culster_means)\n",
    "v.hist(bins=30)\n",
    "v.plot(kind='kde', xlim=([0, 1.0]))"
   ]
  },
  {
   "cell_type": "markdown",
   "metadata": {},
   "source": [
    "変分推定時の `q_mu` と同じような形になっている"
   ]
  },
  {
   "cell_type": "code",
   "execution_count": 10,
   "metadata": {},
   "outputs": [
    {
     "data": {
      "text/plain": [
       "0.0"
      ]
     },
     "execution_count": 10,
     "metadata": {},
     "output_type": "execute_result"
    }
   ],
   "source": [
    "x_data.mean()"
   ]
  },
  {
   "cell_type": "code",
   "execution_count": 11,
   "metadata": {},
   "outputs": [
    {
     "data": {
      "text/plain": [
       "0.055898272"
      ]
     },
     "execution_count": 11,
     "metadata": {},
     "output_type": "execute_result"
    }
   ],
   "source": [
    "np.array(all_current_culster_means).mean()"
   ]
  },
  {
   "cell_type": "markdown",
   "metadata": {},
   "source": [
    "ヒストグラムをベータ分布にfitして分布のパラメータを確認する"
   ]
  },
  {
   "cell_type": "code",
   "execution_count": 12,
   "metadata": {
    "collapsed": true
   },
   "outputs": [],
   "source": [
    "from scipy.stats import beta"
   ]
  },
  {
   "cell_type": "code",
   "execution_count": 13,
   "metadata": {},
   "outputs": [
    {
     "data": {
      "image/png": "[encoded data removed]",
      "text/plain": [
       "<matplotlib.figure.Figure at 0x1166eb780>"
      ]
     },
     "metadata": {},
     "output_type": "display_data"
    }
   ],
   "source": [
    "n, bins, patches = plt.hist(all_current_culster_means, bins = 30, range=[0,1])"
   ]
  },
  {
   "cell_type": "code",
   "execution_count": 14,
   "metadata": {
    "scrolled": false
   },
   "outputs": [
    {
     "name": "stderr",
     "output_type": "stream",
     "text": [
      "/Users/t.nishime/.pyenv/versions/anaconda-2.4.0/envs/edward/lib/python3.5/site-packages/scipy/stats/_continuous_distns.py:412: RuntimeWarning: invalid value encountered in sqrt\n",
      "  sk = 2*(b-a)*np.sqrt(a + b + 1) / (a + b + 2) / np.sqrt(a*b)\n",
      "/Users/t.nishime/.pyenv/versions/anaconda-2.4.0/envs/edward/lib/python3.5/site-packages/scipy/optimize/minpack.py:161: RuntimeWarning: The iteration is not making good progress, as measured by the \n",
      "  improvement from the last ten iterations.\n",
      "  warnings.warn(msg, RuntimeWarning)\n"
     ]
    },
    {
     "data": {
      "text/plain": [
       "[<matplotlib.lines.Line2D at 0x11a1e4748>]"
      ]
     },
     "execution_count": 14,
     "metadata": {},
     "output_type": "execute_result"
    },
    {
     "data": {
      "image/png": "[encoded data removed]",
      "text/plain": [
       "<matplotlib.figure.Figure at 0x11a07be80>"
      ]
     },
     "metadata": {},
     "output_type": "display_data"
    }
   ],
   "source": [
    "param = beta.fit(n)\n",
    "x = np.linspace(0.01, 1.0, 30, dtype=np.float64)\n",
    "pdf_fitted = beta.pdf(x, *param)\n",
    "plt.plot(x, pdf_fitted, 'r')"
   ]
  },
  {
   "cell_type": "code",
   "execution_count": 15,
   "metadata": {},
   "outputs": [
    {
     "data": {
      "text/plain": [
       "(0.21511092231665169,\n",
       " 197.57720233433915,\n",
       " -1.7785821852238525e-26,\n",
       " 2583.3111660259328)"
      ]
     },
     "execution_count": 15,
     "metadata": {},
     "output_type": "execute_result"
    }
   ],
   "source": [
    "param"
   ]
  },
  {
   "cell_type": "code",
   "execution_count": null,
   "metadata": {
    "collapsed": true
   },
   "outputs": [],
   "source": []
  }
 ],
 "metadata": {
  "kernelspec": {
   "display_name": "edward",
   "language": "python",
   "name": "edward"
  },
  "language_info": {
   "codemirror_mode": {
    "name": "ipython",
    "version": 3
   },
   "file_extension": ".py",
   "mimetype": "text/x-python",
   "name": "python",
   "nbconvert_exporter": "python",
   "pygments_lexer": "ipython3",
   "version": "3.5.4"
  }
 },
 "nbformat": 4,
 "nbformat_minor": 2
}
