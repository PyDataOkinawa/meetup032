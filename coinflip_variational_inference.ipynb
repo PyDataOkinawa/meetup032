{
 "cells": [
  {
   "cell_type": "markdown",
   "metadata": {},
   "source": [
    "# Pydata Okinawa #32\n",
    "### Edwardで確率的プログラミング\n",
    "\n",
    "コイン投げモデルを変分近似してみる編\n",
    "\n",
    "## やること\n",
    "- \"コイン投げ\" の確率モデル（Beta-Bernoulliモデル）をEdwardで実装する\n",
    "- 構築されたモデルと観測データをもとに、変分推定で変分分布パラメータを真の分布に近似する"
   ]
  },
  {
   "cell_type": "code",
   "execution_count": 1,
   "metadata": {
    "collapsed": true
   },
   "outputs": [],
   "source": [
    "%matplotlib inline\n",
    "import matplotlib.pyplot as plt\n",
    "import matplotlib.cm as cm\n",
    "from ipywidgets import interact\n",
    "\n",
    "import numpy as np\n",
    "import tensorflow as tf\n",
    "import edward as ed\n",
    "# ベータ分布とベルヌーイ分布をedwardから読み込む\n",
    "from edward.models import Beta, Bernoulli"
   ]
  },
  {
   "cell_type": "code",
   "execution_count": 2,
   "metadata": {},
   "outputs": [],
   "source": [
    "ed.set_seed(42)"
   ]
  },
  {
   "cell_type": "code",
   "execution_count": 3,
   "metadata": {},
   "outputs": [
    {
     "name": "stdout",
     "output_type": "stream",
     "text": [
      "Number of tirals:\t50\n",
      "Observed data:\t [0 0 0 0 0 0 0 0 0 0 0 0 0 0 0 0 0 0 0 0 0 0 0 0 0 0 0 0 0 0 0 0 0 0 0 0 0\n",
      " 0 0 0 0 0 0 0 0 0 0 0 0 0]\n",
      "Mean value:\t0.000\n"
     ]
    }
   ],
   "source": [
    "# 観測データが無い場合\n",
    "#x_data = np.array([])\n",
    "\n",
    "# 0ばかり観測された場合\n",
    "# x_data = np.array([0] * 10)\n",
    "x_data = np.array([0] * 50)\n",
    "\n",
    "# 0と1が確率的に観測された場合\n",
    "# n_data = 50\n",
    "# np.random.seed(0)\n",
    "# x_data = (np.random.rand(n_data) < 0.5).astype('int')\n",
    "\n",
    "# コインを振った回数\n",
    "N = len(x_data)\n",
    "\n",
    "print(\"Number of tirals:\\t%d\" % N)\n",
    "print(\"Observed data:\\t\", x_data)\n",
    "if len(x_data) > 0:\n",
    "    print(\"Mean value:\\t%.3f\" % x_data.mean())"
   ]
  },
  {
   "cell_type": "markdown",
   "metadata": {},
   "source": [
    "# コイン投げ Model を定義\n",
    "<img src=\"beta_bernoulli_model_w_inference_distribution.png\", dpi=30>"
   ]
  },
  {
   "cell_type": "code",
   "execution_count": 4,
   "metadata": {
    "collapsed": true
   },
   "outputs": [],
   "source": [
    "# Beta-Bernoulliモデルを構築\n",
    "\n",
    "# concentration1 = 1.0\n",
    "# concentration0 = 1.0\n",
    "\n",
    "concentration1 = 3.0\n",
    "concentration0 = 2.0\n",
    "\n",
    "# コイン投げモデルを定義してみましょう。 上図がヒントです。\n",
    "p_mu = Beta(float(concentration1), float(concentration0), name='p_mu')\n",
    "x = Bernoulli(tf.ones(N) * p_mu, name='x')"
   ]
  },
  {
   "cell_type": "code",
   "execution_count": 5,
   "metadata": {},
   "outputs": [
    {
     "data": {
      "image/png": "[encoded data removed]",
      "text/plain": [
       "<matplotlib.figure.Figure at 0x120aa8908>"
      ]
     },
     "metadata": {},
     "output_type": "display_data"
    }
   ],
   "source": [
    "# 定義したBeta分布を定義してみる(事前分布)\n",
    "sess = ed.get_session()\n",
    "xs = np.linspace(0.01, 1.0, 100, dtype=np.float32)\n",
    "pdf = p_mu.prob(xs).eval()\n",
    "plt.plot(xs, pdf)\n",
    "plt.show()\n",
    "sess.close()"
   ]
  },
  {
   "cell_type": "markdown",
   "metadata": {},
   "source": [
    "# 変分近似で$q_{\\mu}$のパラメータを推論する"
   ]
  },
  {
   "cell_type": "code",
   "execution_count": 6,
   "metadata": {
    "collapsed": true
   },
   "outputs": [],
   "source": [
    "# 変分分布を定義, 変分近似で推論の為に操作されるパラメータには tf.Variable を付けること\n",
    "q_mu_a = tf.nn.softplus(tf.Variable(0.0), name='q_mu_a')\n",
    "q_mu_b = tf.nn.softplus(tf.Variable(0.0), name='q_mu_b')\n",
    "q_mu = Beta(q_mu_a, q_mu_b, name='vi_q_mu')"
   ]
  },
  {
   "cell_type": "code",
   "execution_count": 7,
   "metadata": {},
   "outputs": [],
   "source": [
    "inference = ed.KLqp({p_mu: q_mu}, data={x: x_data})"
   ]
  },
  {
   "cell_type": "markdown",
   "metadata": {},
   "source": [
    "逐次的に推論を実行する"
   ]
  },
  {
   "cell_type": "code",
   "execution_count": 8,
   "metadata": {
    "collapsed": true
   },
   "outputs": [],
   "source": [
    "# optimizerを設定\n",
    "optimizer = tf.train.AdamOptimizer(learning_rate=0.01)\n",
    "\n",
    "# 推論時のパラメータを設定\n",
    "inference.initialize(\n",
    "    optimizer=optimizer, \n",
    "    n_samples=5, # 推論時に1イテレーションで使用するサンプル数\n",
    "    n_iter=6000, #最大イテレーション数\n",
    "    n_print=100) # 100回ごとにログを書き出す\n",
    "\n",
    "histories = {'t': [], 'loss': []}\n",
    "i_iters = []\n",
    "\n",
    "# 100回ごとに推論するqのパラメータを保存\n",
    "q_mus = []\n",
    "q_means = []\n",
    "\n",
    "mu_domain = np.linspace(0.01, 1.0, 100, dtype=np.float32)"
   ]
  },
  {
   "cell_type": "code",
   "execution_count": 9,
   "metadata": {},
   "outputs": [
    {
     "name": "stdout",
     "output_type": "stream",
     "text": [
      "6000/6000 [100%] ██████████████████████████████ Elapsed: 25s | Loss: 40.800\n"
     ]
    }
   ],
   "source": [
    "# 推論開始\n",
    "sess = ed.get_session()\n",
    "tf.global_variables_initializer().run()\n",
    "\n",
    "for i_iter in range(inference.n_iter):\n",
    "    \n",
    "    if i_iter % 100 == 0:\n",
    "        i_iters.append(i_iter)\n",
    "        curr_q_mu = q_mu.prob(mu_domain).eval()\n",
    "        q_mus.append(curr_q_mu)\n",
    "        q_means.append(q_mu.mean().eval())\n",
    "    \n",
    "    info_dict = inference.update()\n",
    "    inference.print_progress(info_dict)\n",
    "    \n",
    "    histories['t'].append(info_dict['t'])\n",
    "    histories['loss'].append(info_dict['loss'])\n",
    "\n",
    "inference.finalize()"
   ]
  },
  {
   "cell_type": "markdown",
   "metadata": {},
   "source": [
    "学習のログを確認する"
   ]
  },
  {
   "cell_type": "code",
   "execution_count": 10,
   "metadata": {
    "scrolled": true
   },
   "outputs": [
    {
     "data": {
      "application/vnd.jupyter.widget-view+json": {
       "model_id": "2ed98dda348e47afa3218d992cc9f668"
      }
     },
     "metadata": {},
     "output_type": "display_data"
    }
   ],
   "source": [
    "# 100イテレーション毎のベータ分布の確率密度関数をプロットする\n",
    "# 黒い線が今のイテレーション毎に変化する\n",
    "\n",
    "num_evaluations = len(q_mus)\n",
    "\n",
    "@interact(i=(0, num_evaluations - 1, 1))\n",
    "def plot_q_mu(i=0):\n",
    "    fig, ax = plt.subplots(1, 1)\n",
    "\n",
    "    for j in range(num_evaluations):\n",
    "        color = cm.jet(j / num_evaluations)\n",
    "        ax.plot(mu_domain, q_mus[j], color=color, alpha=0.2)\n",
    "    \n",
    "    ax.plot(mu_domain, q_mus[i], 'k')\n",
    "    ax.set_ylim([0, 6])\n",
    "    ax.set_title('Iteration: %d, q_mean: %.2f' % (i_iters[i], q_means[i]))\n",
    "    plt.show()"
   ]
  },
  {
   "cell_type": "markdown",
   "metadata": {},
   "source": [
    "観測データを反映したモデルになっているだろうか。"
   ]
  },
  {
   "cell_type": "markdown",
   "metadata": {},
   "source": [
    "lossの確認"
   ]
  },
  {
   "cell_type": "code",
   "execution_count": 11,
   "metadata": {},
   "outputs": [
    {
     "data": {
      "text/plain": [
       "[<matplotlib.lines.Line2D at 0x122531470>]"
      ]
     },
     "execution_count": 11,
     "metadata": {},
     "output_type": "execute_result"
    },
    {
     "data": {
      "image/png": "[encoded data removed]",
      "text/plain": [
       "<matplotlib.figure.Figure at 0x1215179b0>"
      ]
     },
     "metadata": {},
     "output_type": "display_data"
    }
   ],
   "source": [
    "plt.plot(histories['t'], histories['loss'])"
   ]
  },
  {
   "cell_type": "markdown",
   "metadata": {},
   "source": [
    "推定したベータ分布のパラメータを確認する"
   ]
  },
  {
   "cell_type": "code",
   "execution_count": 12,
   "metadata": {},
   "outputs": [
    {
     "name": "stdout",
     "output_type": "stream",
     "text": [
      "q_mu_a: 0.5982202887535095\n",
      "q_mu_b: 3.2388691902160645 \n",
      "q_mu mean: 0.15590469539165497\n"
     ]
    }
   ],
   "source": [
    "message = \"q_mu_a: {}\\nq_mu_b: {} \\nq_mu mean: {}\".format(\n",
    "    q_mu_a.eval(), q_mu_b.eval(), q_mu.mean().eval())\n",
    "print(message)"
   ]
  },
  {
   "cell_type": "code",
   "execution_count": null,
   "metadata": {
    "collapsed": true
   },
   "outputs": [],
   "source": []
  }
 ],
 "metadata": {
  "kernelspec": {
   "display_name": "edward",
   "language": "python",
   "name": "edward"
  },
  "language_info": {
   "codemirror_mode": {
    "name": "ipython",
    "version": 3
   },
   "file_extension": ".py",
   "mimetype": "text/x-python",
   "name": "python",
   "nbconvert_exporter": "python",
   "pygments_lexer": "ipython3",
   "version": "3.5.4"
  }
 },
 "nbformat": 4,
 "nbformat_minor": 2
}
